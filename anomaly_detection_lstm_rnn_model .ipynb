{
  "nbformat": 4,
  "nbformat_minor": 0,
  "metadata": {
    "colab": {
      "name": "Anomaly_Detection_LSTM_RNN_Model.ipynb",
      "provenance": [],
      "collapsed_sections": [],
      "toc_visible": true
    },
    "kernelspec": {
      "name": "python3",
      "display_name": "Python 3"
    },
    "accelerator": "GPU"
  },
  "cells": [
    {
      "cell_type": "markdown",
      "metadata": {
        "id": "wZ6_wDUvFixg"
      },
      "source": [
        "##1. Download the dataset"
      ]
    },
    {
      "cell_type": "code",
      "metadata": {
        "colab": {
          "resources": {
            "http://localhost:8080/nbextensions/google.colab/files.js": {
              "data": "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",
              "ok": true,
              "headers": [
                [
                  "content-type",
                  "application/javascript"
                ]
              ],
              "status": 200,
              "status_text": ""
            }
          },
          "base_uri": "https://localhost:8080/",
          "height": 73
        },
        "id": "BIkDRdq3x-SC",
        "outputId": "7b7c4209-9f43-4df8-e0af-c66db39928af"
      },
      "source": [
        "#To upload file from local system\r\n",
        "from google.colab import files\r\n",
        "uploaded = files.upload()"
      ],
      "execution_count": 3,
      "outputs": [
        {
          "output_type": "display_data",
          "data": {
            "text/html": [
              "\n",
              "     <input type=\"file\" id=\"files-fc1cb288-a9c6-45de-888f-a0ced7fae72d\" name=\"files[]\" multiple disabled\n",
              "        style=\"border:none\" />\n",
              "     <output id=\"result-fc1cb288-a9c6-45de-888f-a0ced7fae72d\">\n",
              "      Upload widget is only available when the cell has been executed in the\n",
              "      current browser session. Please rerun this cell to enable.\n",
              "      </output>\n",
              "      <script src=\"/nbextensions/google.colab/files.js\"></script> "
            ],
            "text/plain": [
              "<IPython.core.display.HTML object>"
            ]
          },
          "metadata": {
            "tags": []
          }
        },
        {
          "output_type": "stream",
          "text": [
            "Saving BTFEEDleftmenu - 100.csv to BTFEEDleftmenu - 100.csv\n"
          ],
          "name": "stdout"
        }
      ]
    },
    {
      "cell_type": "markdown",
      "metadata": {
        "id": "gVWAdlKBFPe0"
      },
      "source": [
        "## 2. Import the needed 3rd party packages"
      ]
    },
    {
      "cell_type": "code",
      "metadata": {
        "id": "qphMVnTbY0nd"
      },
      "source": [
        "#Importing Required Libraries\r\n",
        "import pandas as pd\r\n",
        "import numpy as np\r\n",
        "import matplotlib\r\n",
        "import seaborn as sns\r\n",
        "sns.set(color_codes=True)\r\n",
        "import matplotlib.pyplot as plt\r\n",
        "%matplotlib inline\r\n",
        "import seaborn\r\n",
        "import matplotlib.dates as md\r\n",
        "from sklearn import preprocessing\r\n",
        "from keras.layers.core import Dense, Activation, Dropout\r\n",
        "from keras.layers.recurrent import LSTM\r\n",
        "from keras.models import Sequential\r\n",
        "from keras.optimizers import Adam\r\n",
        "import time\r\n",
        "import datetime\r\n",
        "from datetime import datetime\r\n",
        "\r\n"
      ],
      "execution_count": 45,
      "outputs": []
    },
    {
      "cell_type": "code",
      "metadata": {
        "id": "u7LceCXhyzMj"
      },
      "source": [
        "#Reading file from local system\r\n",
        "df = pd.read_csv(\"BTFEEDleftmenu - 100.csv\")"
      ],
      "execution_count": 46,
      "outputs": []
    },
    {
      "cell_type": "code",
      "metadata": {
        "colab": {
          "base_uri": "https://localhost:8080/",
          "height": 204
        },
        "id": "OAAkm1hGzUJ6",
        "outputId": "d8406dbf-b171-42ce-976a-8a6d5421753f"
      },
      "source": [
        "df.head()"
      ],
      "execution_count": 47,
      "outputs": [
        {
          "output_type": "execute_result",
          "data": {
            "text/html": [
              "<div>\n",
              "<style scoped>\n",
              "    .dataframe tbody tr th:only-of-type {\n",
              "        vertical-align: middle;\n",
              "    }\n",
              "\n",
              "    .dataframe tbody tr th {\n",
              "        vertical-align: top;\n",
              "    }\n",
              "\n",
              "    .dataframe thead th {\n",
              "        text-align: right;\n",
              "    }\n",
              "</style>\n",
              "<table border=\"1\" class=\"dataframe\">\n",
              "  <thead>\n",
              "    <tr style=\"text-align: right;\">\n",
              "      <th></th>\n",
              "      <th>response_time</th>\n",
              "      <th>event_start_ms</th>\n",
              "      <th>event_start_epoc</th>\n",
              "      <th>year</th>\n",
              "      <th>month</th>\n",
              "      <th>day</th>\n",
              "    </tr>\n",
              "  </thead>\n",
              "  <tbody>\n",
              "    <tr>\n",
              "      <th>0</th>\n",
              "      <td>8.674542</td>\n",
              "      <td>564</td>\n",
              "      <td>1544956946</td>\n",
              "      <td>2018</td>\n",
              "      <td>12</td>\n",
              "      <td>16</td>\n",
              "    </tr>\n",
              "    <tr>\n",
              "      <th>1</th>\n",
              "      <td>8.994416</td>\n",
              "      <td>388</td>\n",
              "      <td>1544956946</td>\n",
              "      <td>2018</td>\n",
              "      <td>12</td>\n",
              "      <td>16</td>\n",
              "    </tr>\n",
              "    <tr>\n",
              "      <th>2</th>\n",
              "      <td>10.833192</td>\n",
              "      <td>493</td>\n",
              "      <td>1544956945</td>\n",
              "      <td>2018</td>\n",
              "      <td>12</td>\n",
              "      <td>16</td>\n",
              "    </tr>\n",
              "    <tr>\n",
              "      <th>3</th>\n",
              "      <td>18.026684</td>\n",
              "      <td>315</td>\n",
              "      <td>1544956945</td>\n",
              "      <td>2018</td>\n",
              "      <td>12</td>\n",
              "      <td>16</td>\n",
              "    </tr>\n",
              "    <tr>\n",
              "      <th>4</th>\n",
              "      <td>10.089430</td>\n",
              "      <td>32</td>\n",
              "      <td>1544956945</td>\n",
              "      <td>2018</td>\n",
              "      <td>12</td>\n",
              "      <td>16</td>\n",
              "    </tr>\n",
              "  </tbody>\n",
              "</table>\n",
              "</div>"
            ],
            "text/plain": [
              "   response_time  event_start_ms  event_start_epoc  year  month  day\n",
              "0       8.674542             564        1544956946  2018     12   16\n",
              "1       8.994416             388        1544956946  2018     12   16\n",
              "2      10.833192             493        1544956945  2018     12   16\n",
              "3      18.026684             315        1544956945  2018     12   16\n",
              "4      10.089430              32        1544956945  2018     12   16"
            ]
          },
          "metadata": {
            "tags": []
          },
          "execution_count": 47
        }
      ]
    },
    {
      "cell_type": "code",
      "metadata": {
        "colab": {
          "base_uri": "https://localhost:8080/",
          "height": 204
        },
        "id": "foJKnQBWl-Ib",
        "outputId": "0f0b97e7-c1e2-4d80-b252-0ebc5776a78b"
      },
      "source": [
        "# Calculating the timestamp\r\n",
        "df ['timestamp'] = df['event_start_epoc'].apply(lambda ts: datetime.fromtimestamp(ts))\r\n",
        "df.head()"
      ],
      "execution_count": 48,
      "outputs": [
        {
          "output_type": "execute_result",
          "data": {
            "text/html": [
              "<div>\n",
              "<style scoped>\n",
              "    .dataframe tbody tr th:only-of-type {\n",
              "        vertical-align: middle;\n",
              "    }\n",
              "\n",
              "    .dataframe tbody tr th {\n",
              "        vertical-align: top;\n",
              "    }\n",
              "\n",
              "    .dataframe thead th {\n",
              "        text-align: right;\n",
              "    }\n",
              "</style>\n",
              "<table border=\"1\" class=\"dataframe\">\n",
              "  <thead>\n",
              "    <tr style=\"text-align: right;\">\n",
              "      <th></th>\n",
              "      <th>response_time</th>\n",
              "      <th>event_start_ms</th>\n",
              "      <th>event_start_epoc</th>\n",
              "      <th>year</th>\n",
              "      <th>month</th>\n",
              "      <th>day</th>\n",
              "      <th>timestamp</th>\n",
              "    </tr>\n",
              "  </thead>\n",
              "  <tbody>\n",
              "    <tr>\n",
              "      <th>0</th>\n",
              "      <td>8.674542</td>\n",
              "      <td>564</td>\n",
              "      <td>1544956946</td>\n",
              "      <td>2018</td>\n",
              "      <td>12</td>\n",
              "      <td>16</td>\n",
              "      <td>2018-12-16 10:42:26</td>\n",
              "    </tr>\n",
              "    <tr>\n",
              "      <th>1</th>\n",
              "      <td>8.994416</td>\n",
              "      <td>388</td>\n",
              "      <td>1544956946</td>\n",
              "      <td>2018</td>\n",
              "      <td>12</td>\n",
              "      <td>16</td>\n",
              "      <td>2018-12-16 10:42:26</td>\n",
              "    </tr>\n",
              "    <tr>\n",
              "      <th>2</th>\n",
              "      <td>10.833192</td>\n",
              "      <td>493</td>\n",
              "      <td>1544956945</td>\n",
              "      <td>2018</td>\n",
              "      <td>12</td>\n",
              "      <td>16</td>\n",
              "      <td>2018-12-16 10:42:25</td>\n",
              "    </tr>\n",
              "    <tr>\n",
              "      <th>3</th>\n",
              "      <td>18.026684</td>\n",
              "      <td>315</td>\n",
              "      <td>1544956945</td>\n",
              "      <td>2018</td>\n",
              "      <td>12</td>\n",
              "      <td>16</td>\n",
              "      <td>2018-12-16 10:42:25</td>\n",
              "    </tr>\n",
              "    <tr>\n",
              "      <th>4</th>\n",
              "      <td>10.089430</td>\n",
              "      <td>32</td>\n",
              "      <td>1544956945</td>\n",
              "      <td>2018</td>\n",
              "      <td>12</td>\n",
              "      <td>16</td>\n",
              "      <td>2018-12-16 10:42:25</td>\n",
              "    </tr>\n",
              "  </tbody>\n",
              "</table>\n",
              "</div>"
            ],
            "text/plain": [
              "   response_time  event_start_ms  ...  day           timestamp\n",
              "0       8.674542             564  ...   16 2018-12-16 10:42:26\n",
              "1       8.994416             388  ...   16 2018-12-16 10:42:26\n",
              "2      10.833192             493  ...   16 2018-12-16 10:42:25\n",
              "3      18.026684             315  ...   16 2018-12-16 10:42:25\n",
              "4      10.089430              32  ...   16 2018-12-16 10:42:25\n",
              "\n",
              "[5 rows x 7 columns]"
            ]
          },
          "metadata": {
            "tags": []
          },
          "execution_count": 48
        }
      ]
    },
    {
      "cell_type": "code",
      "metadata": {
        "id": "mb_czjEbzylk"
      },
      "source": [
        "# Formating the data into required format\r\n",
        "df['hours'] = df['timestamp'].dt.hour\r\n",
        "df['daylight'] = ((df['hours'] >= 7) & (df['hours'] <= 22)).astype(int)\r\n",
        "df['DayOfTheWeek'] = df['timestamp'].dt.dayofweek\r\n",
        "df['WeekDay'] = (df['DayOfTheWeek'] < 5).astype(int)"
      ],
      "execution_count": 49,
      "outputs": []
    },
    {
      "cell_type": "code",
      "metadata": {
        "id": "FjBXa8_-ShnG"
      },
      "source": [
        "# Detecting the working days and the holydays\r\n",
        "df['daytype'] = df['WeekDay']*2 + df['daylight']\r\n",
        "Weekend_Night = df.loc[df['daytype'] == 0, 'month']\r\n",
        "Weekend_Light = df.loc[df['daytype'] == 1, 'month']\r\n",
        "Weekday_Night = df.loc[df['daytype'] == 2, 'month']\r\n",
        "Weekday_Light = df.loc[df['daytype'] == 3, 'month']"
      ],
      "execution_count": 50,
      "outputs": []
    },
    {
      "cell_type": "code",
      "metadata": {
        "colab": {
          "base_uri": "https://localhost:8080/",
          "height": 394
        },
        "id": "qu56t2cXurQD",
        "outputId": "1cd522a8-9ea1-4693-b8ec-a9c6983c0c74"
      },
      "source": [
        "df.head()"
      ],
      "execution_count": 51,
      "outputs": [
        {
          "output_type": "execute_result",
          "data": {
            "text/html": [
              "<div>\n",
              "<style scoped>\n",
              "    .dataframe tbody tr th:only-of-type {\n",
              "        vertical-align: middle;\n",
              "    }\n",
              "\n",
              "    .dataframe tbody tr th {\n",
              "        vertical-align: top;\n",
              "    }\n",
              "\n",
              "    .dataframe thead th {\n",
              "        text-align: right;\n",
              "    }\n",
              "</style>\n",
              "<table border=\"1\" class=\"dataframe\">\n",
              "  <thead>\n",
              "    <tr style=\"text-align: right;\">\n",
              "      <th></th>\n",
              "      <th>response_time</th>\n",
              "      <th>event_start_ms</th>\n",
              "      <th>event_start_epoc</th>\n",
              "      <th>year</th>\n",
              "      <th>month</th>\n",
              "      <th>day</th>\n",
              "      <th>timestamp</th>\n",
              "      <th>hours</th>\n",
              "      <th>daylight</th>\n",
              "      <th>DayOfTheWeek</th>\n",
              "      <th>WeekDay</th>\n",
              "      <th>daytype</th>\n",
              "    </tr>\n",
              "  </thead>\n",
              "  <tbody>\n",
              "    <tr>\n",
              "      <th>0</th>\n",
              "      <td>8.674542</td>\n",
              "      <td>564</td>\n",
              "      <td>1544956946</td>\n",
              "      <td>2018</td>\n",
              "      <td>12</td>\n",
              "      <td>16</td>\n",
              "      <td>2018-12-16 10:42:26</td>\n",
              "      <td>10</td>\n",
              "      <td>1</td>\n",
              "      <td>6</td>\n",
              "      <td>0</td>\n",
              "      <td>1</td>\n",
              "    </tr>\n",
              "    <tr>\n",
              "      <th>1</th>\n",
              "      <td>8.994416</td>\n",
              "      <td>388</td>\n",
              "      <td>1544956946</td>\n",
              "      <td>2018</td>\n",
              "      <td>12</td>\n",
              "      <td>16</td>\n",
              "      <td>2018-12-16 10:42:26</td>\n",
              "      <td>10</td>\n",
              "      <td>1</td>\n",
              "      <td>6</td>\n",
              "      <td>0</td>\n",
              "      <td>1</td>\n",
              "    </tr>\n",
              "    <tr>\n",
              "      <th>2</th>\n",
              "      <td>10.833192</td>\n",
              "      <td>493</td>\n",
              "      <td>1544956945</td>\n",
              "      <td>2018</td>\n",
              "      <td>12</td>\n",
              "      <td>16</td>\n",
              "      <td>2018-12-16 10:42:25</td>\n",
              "      <td>10</td>\n",
              "      <td>1</td>\n",
              "      <td>6</td>\n",
              "      <td>0</td>\n",
              "      <td>1</td>\n",
              "    </tr>\n",
              "    <tr>\n",
              "      <th>3</th>\n",
              "      <td>18.026684</td>\n",
              "      <td>315</td>\n",
              "      <td>1544956945</td>\n",
              "      <td>2018</td>\n",
              "      <td>12</td>\n",
              "      <td>16</td>\n",
              "      <td>2018-12-16 10:42:25</td>\n",
              "      <td>10</td>\n",
              "      <td>1</td>\n",
              "      <td>6</td>\n",
              "      <td>0</td>\n",
              "      <td>1</td>\n",
              "    </tr>\n",
              "    <tr>\n",
              "      <th>4</th>\n",
              "      <td>10.089430</td>\n",
              "      <td>32</td>\n",
              "      <td>1544956945</td>\n",
              "      <td>2018</td>\n",
              "      <td>12</td>\n",
              "      <td>16</td>\n",
              "      <td>2018-12-16 10:42:25</td>\n",
              "      <td>10</td>\n",
              "      <td>1</td>\n",
              "      <td>6</td>\n",
              "      <td>0</td>\n",
              "      <td>1</td>\n",
              "    </tr>\n",
              "  </tbody>\n",
              "</table>\n",
              "</div>"
            ],
            "text/plain": [
              "   response_time  event_start_ms  ...  WeekDay  daytype\n",
              "0       8.674542             564  ...        0        1\n",
              "1       8.994416             388  ...        0        1\n",
              "2      10.833192             493  ...        0        1\n",
              "3      18.026684             315  ...        0        1\n",
              "4      10.089430              32  ...        0        1\n",
              "\n",
              "[5 rows x 12 columns]"
            ]
          },
          "metadata": {
            "tags": []
          },
          "execution_count": 51
        }
      ]
    },
    {
      "cell_type": "markdown",
      "metadata": {
        "id": "yn34A5nR6ytu"
      },
      "source": [
        "## 3.  Visualize the data"
      ]
    },
    {
      "cell_type": "code",
      "metadata": {
        "colab": {
          "base_uri": "https://localhost:8080/",
          "height": 713
        },
        "id": "CensxYR6ztB1",
        "outputId": "4e02f3e0-3b21-4a55-deaa-647633482934"
      },
      "source": [
        "# plot the respond time corsponding to the timestamp\r\n",
        "figsize=(20,12)\r\n",
        "df.plot(x='timestamp', y='response_time', figsize=figsize, title='Time series - Webshop latency data')\r\n",
        "plt.grid()\r\n",
        "plt.show()"
      ],
      "execution_count": 52,
      "outputs": [
        {
          "output_type": "display_data",
          "data": {
            "image/png": "[encoded data removed]",
            "text/plain": [
              "<Figure size 1440x864 with 1 Axes>"
            ]
          },
          "metadata": {
            "tags": [],
            "needs_background": "light"
          }
        }
      ]
    },
    {
      "cell_type": "code",
      "metadata": {
        "colab": {
          "base_uri": "https://localhost:8080/",
          "height": 320
        },
        "id": "5p8MhF5aS9u5",
        "outputId": "23bf960e-a7db-4ff8-aff7-277155f6574e"
      },
      "source": [
        "# Visualizing the formatted data\r\n",
        "figsize=(10,5)\r\n",
        "fig, ax = plt.subplots(figsize=figsize)\r\n",
        "a_heights, a_bins = np.histogram(Weekend_Night)\r\n",
        "b_heights, b_bins = np.histogram(Weekend_Light, bins=a_bins)\r\n",
        "c_heights, c_bins = np.histogram(Weekday_Night, bins=a_bins)\r\n",
        "d_heights, d_bins = np.histogram(Weekday_Light, bins=a_bins)\r\n",
        "width = (a_bins[1] - a_bins[0])/6\r\n",
        "ax.bar(a_bins[:-1], a_heights*100/Weekend_Night.count(), width=width, facecolor='blue', label='Weekend Night')\r\n",
        "ax.bar(b_bins[:-1]+width, (b_heights*100/Weekend_Light.count()), width=width, facecolor='green', label ='Weekend Light')\r\n",
        "ax.bar(c_bins[:-1]+width*2, (c_heights*100/Weekday_Night.count()), width=width, facecolor='red', label ='Weekday Night')\r\n",
        "ax.bar(d_bins[:-1]+width*3, (d_heights*100/Weekday_Light.count()), width=width, facecolor='black', label ='Weekday Light')\r\n",
        "plt.legend()\r\n",
        "plt.show()"
      ],
      "execution_count": 12,
      "outputs": [
        {
          "output_type": "display_data",
          "data": {
            "image/png": "[encoded data removed]",
            "text/plain": [
              "<Figure size 720x360 with 1 Axes>"
            ]
          },
          "metadata": {
            "tags": [],
            "needs_background": "light"
          }
        }
      ]
    },
    {
      "cell_type": "markdown",
      "metadata": {
        "id": "xNokVvEqbZoz"
      },
      "source": [
        "The above histogram shows that the Logs are comparatively more stable during Week Days in the daylights, and extremely high between October and December especially at the weekends"
      ]
    },
    {
      "cell_type": "code",
      "metadata": {
        "id": "0kCrRso9SKoc",
        "colab": {
          "base_uri": "https://localhost:8080/",
          "height": 388
        },
        "outputId": "308a382d-d00d-48c4-fa6f-124acc6b4d12"
      },
      "source": [
        "# Visualizing the log according to the frequency in the month\r\n",
        "plt.figure(figsize= (12,6))\r\n",
        "plt.ylabel('Month')\r\n",
        "plt.xlabel('Operational log')\r\n",
        "df['month'].value_counts().plot(kind = 'barh', grid = True)\r\n",
        "plt.show()"
      ],
      "execution_count": 13,
      "outputs": [
        {
          "output_type": "display_data",
          "data": {
            "image/png": "[encoded data removed]",
            "text/plain": [
              "<Figure size 864x432 with 1 Axes>"
            ]
          },
          "metadata": {
            "tags": [],
            "needs_background": "light"
          }
        }
      ]
    },
    {
      "cell_type": "markdown",
      "metadata": {
        "id": "ouhWj59d8L5H"
      },
      "source": [
        "## 4. Preparing the data for LSTM model"
      ]
    },
    {
      "cell_type": "markdown",
      "metadata": {
        "id": "9OJBeJ5EVT-i"
      },
      "source": [
        "### 4.1 MinMax scaler for scaling the data"
      ]
    },
    {
      "cell_type": "code",
      "metadata": {
        "id": "DatUsB50SMei"
      },
      "source": [
        "data_n = df[['response_time', 'event_start_ms','event_start_epoc']]\r\n",
        "min_max_scaler = preprocessing.StandardScaler()\r\n",
        "np_scaled = min_max_scaler.fit_transform(data_n[['response_time', 'event_start_ms','event_start_epoc']])\r\n",
        "data_n = pd.DataFrame(np_scaled)"
      ],
      "execution_count": 14,
      "outputs": []
    },
    {
      "cell_type": "code",
      "metadata": {
        "colab": {
          "base_uri": "https://localhost:8080/",
          "height": 204
        },
        "id": "BhlxkKvDksyi",
        "outputId": "dcd799a4-e4c8-4fb7-c1b7-731fb3df2f81"
      },
      "source": [
        "data_n.head()"
      ],
      "execution_count": 15,
      "outputs": [
        {
          "output_type": "execute_result",
          "data": {
            "text/html": [
              "<div>\n",
              "<style scoped>\n",
              "    .dataframe tbody tr th:only-of-type {\n",
              "        vertical-align: middle;\n",
              "    }\n",
              "\n",
              "    .dataframe tbody tr th {\n",
              "        vertical-align: top;\n",
              "    }\n",
              "\n",
              "    .dataframe thead th {\n",
              "        text-align: right;\n",
              "    }\n",
              "</style>\n",
              "<table border=\"1\" class=\"dataframe\">\n",
              "  <thead>\n",
              "    <tr style=\"text-align: right;\">\n",
              "      <th></th>\n",
              "      <th>0</th>\n",
              "      <th>1</th>\n",
              "      <th>2</th>\n",
              "    </tr>\n",
              "  </thead>\n",
              "  <tbody>\n",
              "    <tr>\n",
              "      <th>0</th>\n",
              "      <td>-0.232311</td>\n",
              "      <td>0.215118</td>\n",
              "      <td>0.607898</td>\n",
              "    </tr>\n",
              "    <tr>\n",
              "      <th>1</th>\n",
              "      <td>-0.231903</td>\n",
              "      <td>-0.396415</td>\n",
              "      <td>0.607898</td>\n",
              "    </tr>\n",
              "    <tr>\n",
              "      <th>2</th>\n",
              "      <td>-0.229559</td>\n",
              "      <td>-0.031580</td>\n",
              "      <td>0.607898</td>\n",
              "    </tr>\n",
              "    <tr>\n",
              "      <th>3</th>\n",
              "      <td>-0.220386</td>\n",
              "      <td>-0.650062</td>\n",
              "      <td>0.607898</td>\n",
              "    </tr>\n",
              "    <tr>\n",
              "      <th>4</th>\n",
              "      <td>-0.230507</td>\n",
              "      <td>-1.633378</td>\n",
              "      <td>0.607898</td>\n",
              "    </tr>\n",
              "  </tbody>\n",
              "</table>\n",
              "</div>"
            ],
            "text/plain": [
              "          0         1         2\n",
              "0 -0.232311  0.215118  0.607898\n",
              "1 -0.231903 -0.396415  0.607898\n",
              "2 -0.229559 -0.031580  0.607898\n",
              "3 -0.220386 -0.650062  0.607898\n",
              "4 -0.230507 -1.633378  0.607898"
            ]
          },
          "metadata": {
            "tags": []
          },
          "execution_count": 15
        }
      ]
    },
    {
      "cell_type": "markdown",
      "metadata": {
        "id": "d7rUKEn7VMR3"
      },
      "source": [
        "### 4.2 Spliting the Dataset"
      ]
    },
    {
      "cell_type": "markdown",
      "metadata": {
        "id": "PD-owyHkVKb8"
      },
      "source": [
        "we define the datasets for training and testing our neural network. To do this, we perform a simple split where we train on the first part of the dataset, which represents normal operational logs. We then test on the remaining part of the dataset that contains the anomaly logs."
      ]
    },
    {
      "cell_type": "code",
      "metadata": {
        "id": "5yxLX59nSXvU"
      },
      "source": [
        "#Important parameters and training/Test size\r\n",
        "prediction_time = 1 \r\n",
        "testdatasize = 8000\r\n",
        "unroll_length = 50\r\n",
        "testdatacut = testdatasize + unroll_length  + 1\r\n",
        "\r\n",
        "#Training data\r\n",
        "x_train = data_n[0:-prediction_time-testdatacut].values\r\n",
        "y_train = data_n[prediction_time:-testdatacut  ][0].values\r\n",
        "\r\n",
        "#Test data\r\n",
        "x_test = data_n[0-testdatacut:-prediction_time].values\r\n",
        "y_test = data_n[prediction_time-testdatacut:  ][0].values"
      ],
      "execution_count": 16,
      "outputs": []
    },
    {
      "cell_type": "code",
      "metadata": {
        "id": "ymi-Rf1gSkeX"
      },
      "source": [
        "def unroll(data,sequence_length=24):\r\n",
        "    result = []\r\n",
        "    for index in range(len(data) - sequence_length):\r\n",
        "        result.append(data[index: index + sequence_length])\r\n",
        "    return np.asarray(result)\r\n",
        "\r\n",
        "#Adapt the datasets for the sequence data shape\r\n",
        "x_train = unroll(x_train,unroll_length)\r\n",
        "x_test  = unroll(x_test,unroll_length)\r\n",
        "y_train = y_train[-x_train.shape[0]:]\r\n",
        "y_test  = y_test[-x_test.shape[0]:]"
      ],
      "execution_count": 17,
      "outputs": []
    },
    {
      "cell_type": "code",
      "metadata": {
        "colab": {
          "base_uri": "https://localhost:8080/"
        },
        "id": "bd3KlAMwSynn",
        "outputId": "e4004175-e44b-41dc-d42d-f7bff593ab62"
      },
      "source": [
        "#Shape of the data\r\n",
        "print(\"x_train\", x_train.shape)\r\n",
        "print(\"y_train\", y_train.shape)\r\n",
        "print(\"x_test\", x_test.shape)\r\n",
        "print(\"y_test\", y_test.shape)"
      ],
      "execution_count": 18,
      "outputs": [
        {
          "output_type": "stream",
          "text": [
            "x_train (41978, 50, 3)\n",
            "y_train (41978,)\n",
            "x_test (8000, 50, 3)\n",
            "y_test (8000,)\n"
          ],
          "name": "stdout"
        }
      ]
    },
    {
      "cell_type": "markdown",
      "metadata": {
        "id": "NALmMdeY8UZo"
      },
      "source": [
        "## 5. Building the LSTM model"
      ]
    },
    {
      "cell_type": "code",
      "metadata": {
        "colab": {
          "base_uri": "https://localhost:8080/"
        },
        "id": "5ka26mZ7S2Ui",
        "outputId": "18c68996-bb3b-46cf-f5d9-440b8a4fcfe2"
      },
      "source": [
        "model = Sequential()\r\n",
        "\r\n",
        "model.add(LSTM(100,input_dim=x_train.shape[-1], return_sequences=True))\r\n",
        "model.add(Dropout(0.2))\r\n",
        "\r\n",
        "model.add(LSTM(100, return_sequences=False))\r\n",
        "model.add(Dropout(0.2))\r\n",
        "\r\n",
        "model.add(Dense(6))\r\n",
        "model.add(Activation('linear'))\r\n",
        "\r\n",
        "start = time.time()\r\n",
        "model.compile(loss='mae', optimizer='Adam')\r\n",
        "print('compilation time : {}'.format(time.time() - start))\r\n",
        "model.summary()"
      ],
      "execution_count": 19,
      "outputs": [
        {
          "output_type": "stream",
          "text": [
            "compilation time : 0.12651801109313965\n",
            "Model: \"sequential\"\n",
            "_________________________________________________________________\n",
            "Layer (type)                 Output Shape              Param #   \n",
            "=================================================================\n",
            "lstm (LSTM)                  (None, None, 100)         41600     \n",
            "_________________________________________________________________\n",
            "dropout (Dropout)            (None, None, 100)         0         \n",
            "_________________________________________________________________\n",
            "lstm_1 (LSTM)                (None, 100)               80400     \n",
            "_________________________________________________________________\n",
            "dropout_1 (Dropout)          (None, 100)               0         \n",
            "_________________________________________________________________\n",
            "dense (Dense)                (None, 6)                 606       \n",
            "_________________________________________________________________\n",
            "activation (Activation)      (None, 6)                 0         \n",
            "=================================================================\n",
            "Total params: 122,606\n",
            "Trainable params: 122,606\n",
            "Non-trainable params: 0\n",
            "_________________________________________________________________\n"
          ],
          "name": "stdout"
        }
      ]
    },
    {
      "cell_type": "markdown",
      "metadata": {
        "id": "5SbXMhr68gny"
      },
      "source": [
        "### 5.1 Training the model"
      ]
    },
    {
      "cell_type": "code",
      "metadata": {
        "id": "Ny2frRXVTVdw",
        "colab": {
          "base_uri": "https://localhost:8080/"
        },
        "outputId": "07d367dc-5207-4a18-adff-76ff7f31ede2"
      },
      "source": [
        "model.fit(x_train, y_train, batch_size=3028, epochs=50, validation_split=0.1)"
      ],
      "execution_count": 20,
      "outputs": [
        {
          "output_type": "stream",
          "text": [
            "Epoch 1/50\n",
            "13/13 [==============================] - 44s 3s/step - loss: 0.3016 - val_loss: 0.2619\n",
            "Epoch 2/50\n",
            "13/13 [==============================] - 36s 3s/step - loss: 0.2418 - val_loss: 0.2514\n",
            "Epoch 3/50\n",
            "13/13 [==============================] - 37s 3s/step - loss: 0.2361 - val_loss: 0.2496\n",
            "Epoch 4/50\n",
            "13/13 [==============================] - 37s 3s/step - loss: 0.2301 - val_loss: 0.2482\n",
            "Epoch 5/50\n",
            "13/13 [==============================] - 37s 3s/step - loss: 0.2317 - val_loss: 0.2489\n",
            "Epoch 6/50\n",
            "13/13 [==============================] - 37s 3s/step - loss: 0.2340 - val_loss: 0.2481\n",
            "Epoch 7/50\n",
            "13/13 [==============================] - 37s 3s/step - loss: 0.2309 - val_loss: 0.2481\n",
            "Epoch 8/50\n",
            "13/13 [==============================] - 37s 3s/step - loss: 0.2335 - val_loss: 0.2479\n",
            "Epoch 9/50\n",
            "13/13 [==============================] - 37s 3s/step - loss: 0.2277 - val_loss: 0.2479\n",
            "Epoch 10/50\n",
            "13/13 [==============================] - 37s 3s/step - loss: 0.2266 - val_loss: 0.2482\n",
            "Epoch 11/50\n",
            "13/13 [==============================] - 37s 3s/step - loss: 0.2268 - val_loss: 0.2470\n",
            "Epoch 12/50\n",
            "13/13 [==============================] - 37s 3s/step - loss: 0.2213 - val_loss: 0.2473\n",
            "Epoch 13/50\n",
            "13/13 [==============================] - 36s 3s/step - loss: 0.2247 - val_loss: 0.2479\n",
            "Epoch 14/50\n",
            "13/13 [==============================] - 36s 3s/step - loss: 0.2230 - val_loss: 0.2474\n",
            "Epoch 15/50\n",
            "13/13 [==============================] - 36s 3s/step - loss: 0.2246 - val_loss: 0.2470\n",
            "Epoch 16/50\n",
            "13/13 [==============================] - 36s 3s/step - loss: 0.2202 - val_loss: 0.2470\n",
            "Epoch 17/50\n",
            "13/13 [==============================] - 36s 3s/step - loss: 0.2254 - val_loss: 0.2472\n",
            "Epoch 18/50\n",
            "13/13 [==============================] - 35s 3s/step - loss: 0.2317 - val_loss: 0.2470\n",
            "Epoch 19/50\n",
            "13/13 [==============================] - 36s 3s/step - loss: 0.2280 - val_loss: 0.2473\n",
            "Epoch 20/50\n",
            "13/13 [==============================] - 35s 3s/step - loss: 0.2251 - val_loss: 0.2473\n",
            "Epoch 21/50\n",
            "13/13 [==============================] - 37s 3s/step - loss: 0.2258 - val_loss: 0.2467\n",
            "Epoch 22/50\n",
            "13/13 [==============================] - 37s 3s/step - loss: 0.2264 - val_loss: 0.2468\n",
            "Epoch 23/50\n",
            "13/13 [==============================] - 37s 3s/step - loss: 0.2198 - val_loss: 0.2471\n",
            "Epoch 24/50\n",
            "13/13 [==============================] - 37s 3s/step - loss: 0.2188 - val_loss: 0.2473\n",
            "Epoch 25/50\n",
            "13/13 [==============================] - 36s 3s/step - loss: 0.2268 - val_loss: 0.2472\n",
            "Epoch 26/50\n",
            "13/13 [==============================] - 37s 3s/step - loss: 0.2214 - val_loss: 0.2467\n",
            "Epoch 27/50\n",
            "13/13 [==============================] - 37s 3s/step - loss: 0.2186 - val_loss: 0.2466\n",
            "Epoch 28/50\n",
            "13/13 [==============================] - 37s 3s/step - loss: 0.2213 - val_loss: 0.2472\n",
            "Epoch 29/50\n",
            "13/13 [==============================] - 37s 3s/step - loss: 0.2236 - val_loss: 0.2468\n",
            "Epoch 30/50\n",
            "13/13 [==============================] - 36s 3s/step - loss: 0.2206 - val_loss: 0.2467\n",
            "Epoch 31/50\n",
            "13/13 [==============================] - 37s 3s/step - loss: 0.2250 - val_loss: 0.2467\n",
            "Epoch 32/50\n",
            "13/13 [==============================] - 37s 3s/step - loss: 0.2187 - val_loss: 0.2466\n",
            "Epoch 33/50\n",
            "13/13 [==============================] - 36s 3s/step - loss: 0.2255 - val_loss: 0.2465\n",
            "Epoch 34/50\n",
            "13/13 [==============================] - 37s 3s/step - loss: 0.2269 - val_loss: 0.2466\n",
            "Epoch 35/50\n",
            "13/13 [==============================] - 37s 3s/step - loss: 0.2184 - val_loss: 0.2465\n",
            "Epoch 36/50\n",
            "13/13 [==============================] - 37s 3s/step - loss: 0.2197 - val_loss: 0.2464\n",
            "Epoch 37/50\n",
            "13/13 [==============================] - 37s 3s/step - loss: 0.2217 - val_loss: 0.2466\n",
            "Epoch 38/50\n",
            "13/13 [==============================] - 37s 3s/step - loss: 0.2268 - val_loss: 0.2466\n",
            "Epoch 39/50\n",
            "13/13 [==============================] - 37s 3s/step - loss: 0.2226 - val_loss: 0.2466\n",
            "Epoch 40/50\n",
            "13/13 [==============================] - 37s 3s/step - loss: 0.2301 - val_loss: 0.2464\n",
            "Epoch 41/50\n",
            "13/13 [==============================] - 37s 3s/step - loss: 0.2189 - val_loss: 0.2465\n",
            "Epoch 42/50\n",
            "13/13 [==============================] - 37s 3s/step - loss: 0.2174 - val_loss: 0.2465\n",
            "Epoch 43/50\n",
            "13/13 [==============================] - 37s 3s/step - loss: 0.2233 - val_loss: 0.2464\n",
            "Epoch 44/50\n",
            "13/13 [==============================] - 36s 3s/step - loss: 0.2267 - val_loss: 0.2466\n",
            "Epoch 45/50\n",
            "13/13 [==============================] - 36s 3s/step - loss: 0.2275 - val_loss: 0.2467\n",
            "Epoch 46/50\n",
            "13/13 [==============================] - 36s 3s/step - loss: 0.2213 - val_loss: 0.2466\n",
            "Epoch 47/50\n",
            "13/13 [==============================] - 36s 3s/step - loss: 0.2175 - val_loss: 0.2464\n",
            "Epoch 48/50\n",
            "13/13 [==============================] - 36s 3s/step - loss: 0.2216 - val_loss: 0.2464\n",
            "Epoch 49/50\n",
            "13/13 [==============================] - 37s 3s/step - loss: 0.2162 - val_loss: 0.2464\n",
            "Epoch 50/50\n",
            "13/13 [==============================] - 36s 3s/step - loss: 0.2156 - val_loss: 0.2463\n"
          ],
          "name": "stdout"
        },
        {
          "output_type": "execute_result",
          "data": {
            "text/plain": [
              "<tensorflow.python.keras.callbacks.History at 0x7f913ea44a90>"
            ]
          },
          "metadata": {
            "tags": []
          },
          "execution_count": 20
        }
      ]
    },
    {
      "cell_type": "code",
      "metadata": {
        "colab": {
          "base_uri": "https://localhost:8080/",
          "height": 351
        },
        "id": "3rsfRueXWgZ0",
        "outputId": "518e01b0-acd5-40ee-b8a1-54a649286406"
      },
      "source": [
        "#Visualizing training and validaton loss\r\n",
        "plt.figure(figsize = (10, 5))\r\n",
        "plt.plot(model.history.history['loss'], label = 'Loss')\r\n",
        "plt.plot(model.history.history['val_loss'], Label = 'Val_Loss')\r\n",
        "plt.xlabel('Epochs')\r\n",
        "plt.ylabel('Loss')\r\n",
        "plt.grid()\r\n",
        "plt.legend()"
      ],
      "execution_count": 21,
      "outputs": [
        {
          "output_type": "execute_result",
          "data": {
            "text/plain": [
              "<matplotlib.legend.Legend at 0x7f91351eb518>"
            ]
          },
          "metadata": {
            "tags": []
          },
          "execution_count": 21
        },
        {
          "output_type": "display_data",
          "data": {
            "image/png": "[encoded data removed]",
            "text/plain": [
              "<Figure size 720x360 with 1 Axes>"
            ]
          },
          "metadata": {
            "tags": [],
            "needs_background": "light"
          }
        }
      ]
    },
    {
      "cell_type": "markdown",
      "metadata": {
        "id": "d2jUIdRG8uYR"
      },
      "source": [
        "### 5.2 Saving the model weights into HDF5"
      ]
    },
    {
      "cell_type": "code",
      "metadata": {
        "colab": {
          "base_uri": "https://localhost:8080/"
        },
        "id": "JhjCZJJy0tCn",
        "outputId": "800f02dc-48fb-46f0-b427-4d616643faa6"
      },
      "source": [
        "# Serialize weights to HDF5\r\n",
        "model.save_weights(\"model.h5\")\r\n",
        "print(\"Saved model to disk\")"
      ],
      "execution_count": 22,
      "outputs": [
        {
          "output_type": "stream",
          "text": [
            "Saved model to disk\n"
          ],
          "name": "stdout"
        }
      ]
    },
    {
      "cell_type": "markdown",
      "metadata": {
        "id": "9ktGfSkf9P7a"
      },
      "source": [
        "### 5.3 Difference between prediction and test data"
      ]
    },
    {
      "cell_type": "code",
      "metadata": {
        "id": "vLgaf21Zb8cr"
      },
      "source": [
        "# The list of difference between prediction and test data\r\n",
        "loaded_model = model\r\n",
        "diff=[]\r\n",
        "ratio=[]\r\n",
        "pred = loaded_model.predict(x_test)\r\n",
        "for i in range(len(y_test)):\r\n",
        "    pr = pred[i][0]\r\n",
        "    ratio.append((y_test[i]/pr)-1)\r\n",
        "    diff.append(abs(y_test[i]- pr))"
      ],
      "execution_count": 23,
      "outputs": []
    },
    {
      "cell_type": "code",
      "metadata": {
        "colab": {
          "base_uri": "https://localhost:8080/",
          "height": 501
        },
        "id": "gVthr8mca0fY",
        "outputId": "607f399a-c7c3-4f12-94f9-93dbf7fb860a"
      },
      "source": [
        "# Plotting the reality, Test data\r\n",
        "plt.figure(figsize = (15, 8))\r\n",
        "plt.plot(y_test,color='blue', label='Test Data')\r\n",
        "plt.legend(loc='upper left')\r\n",
        "plt.grid()\r\n",
        "plt.legend()"
      ],
      "execution_count": 39,
      "outputs": [
        {
          "output_type": "execute_result",
          "data": {
            "text/plain": [
              "<matplotlib.legend.Legend at 0x7f913372f7f0>"
            ]
          },
          "metadata": {
            "tags": []
          },
          "execution_count": 39
        },
        {
          "output_type": "display_data",
          "data": {
            "image/png": "[encoded data removed]",
            "text/plain": [
              "<Figure size 1080x576 with 1 Axes>"
            ]
          },
          "metadata": {
            "tags": [],
            "needs_background": "light"
          }
        }
      ]
    },
    {
      "cell_type": "code",
      "metadata": {
        "colab": {
          "base_uri": "https://localhost:8080/",
          "height": 500
        },
        "id": "KGbo9hX7b_Wh",
        "outputId": "344fa628-bde1-4690-b8b0-5597c14e525d"
      },
      "source": [
        "# Plotting the prediction and the reality\r\n",
        "plt.figure(figsize = (15, 8))\r\n",
        "plt.plot(pred,color='red', label='Prediction')\r\n",
        "plt.legend(loc='upper left')\r\n",
        "plt.grid()\r\n",
        "plt.legend()"
      ],
      "execution_count": 38,
      "outputs": [
        {
          "output_type": "execute_result",
          "data": {
            "text/plain": [
              "<matplotlib.legend.Legend at 0x7f91337caf28>"
            ]
          },
          "metadata": {
            "tags": []
          },
          "execution_count": 38
        },
        {
          "output_type": "display_data",
          "data": {
            "image/png": "[encoded data removed]",
            "text/plain": [
              "<Figure size 1080x576 with 1 Axes>"
            ]
          },
          "metadata": {
            "tags": [],
            "needs_background": "light"
          }
        }
      ]
    },
    {
      "cell_type": "markdown",
      "metadata": {
        "id": "xz0i9XMP9vc3"
      },
      "source": [
        "## 6. Amonaly detection"
      ]
    },
    {
      "cell_type": "code",
      "metadata": {
        "colab": {
          "base_uri": "https://localhost:8080/"
        },
        "id": "4wqm6gDvcCKG",
        "outputId": "2bb8a57b-6a0f-4e54-a2fd-62ba4b3eafa8"
      },
      "source": [
        "# Anomaly estimated population\r\n",
        "outliers_fraction = 0.01\r\n",
        "\r\n",
        "#Pick the most distant prediction/reality data points as anomalies\r\n",
        "diff = pd.Series(diff)\r\n",
        "number_of_outliers = int(outliers_fraction*len(diff))\r\n",
        "threshold = diff.nlargest(number_of_outliers).min()\r\n",
        "\r\n",
        "#Data with anomaly label\r\n",
        "test = (diff >= threshold).astype(int)\r\n",
        "complement = pd.Series(0, index=np.arange(len(data_n)-testdatasize))\r\n",
        "df['anomaly'] = complement.append(test, ignore_index='True')\r\n",
        "print(df['anomaly'].sum())\r\n",
        "print('threshold', threshold)"
      ],
      "execution_count": 44,
      "outputs": [
        {
          "output_type": "stream",
          "text": [
            "80\n",
            "threshold 2.975480894423082\n"
          ],
          "name": "stdout"
        }
      ]
    },
    {
      "cell_type": "code",
      "metadata": {
        "colab": {
          "base_uri": "https://localhost:8080/",
          "height": 609
        },
        "id": "Ver535ldcYUl",
        "outputId": "c0f8d1cd-d8cf-4787-ed96-7beb11e70012"
      },
      "source": [
        "# Visualizing anomalies\r\n",
        "plt.figure(figsize=(15,10))\r\n",
        "aa = df.loc[df['anomaly'] == 1, ['timestamp', 'response_time']] #anomaly\r\n",
        "plt.plot(df['timestamp'], df['response_time'], color='blue')\r\n",
        "plt.scatter(aa['timestamp'],aa['response_time'], color='red', label = 'Anomaly')\r\n",
        "plt.grid()\r\n",
        "plt.legend()"
      ],
      "execution_count": 43,
      "outputs": [
        {
          "output_type": "execute_result",
          "data": {
            "text/plain": [
              "<matplotlib.legend.Legend at 0x7f9133397e10>"
            ]
          },
          "metadata": {
            "tags": []
          },
          "execution_count": 43
        },
        {
          "output_type": "display_data",
          "data": {
            "image/png": "[encoded data removed]",
            "text/plain": [
              "<Figure size 1080x720 with 1 Axes>"
            ]
          },
          "metadata": {
            "tags": [],
            "needs_background": "light"
          }
        }
      ]
    },
    {
      "cell_type": "code",
      "metadata": {
        "id": "NpOEBUl3cbTb",
        "colab": {
          "base_uri": "https://localhost:8080/",
          "height": 327
        },
        "outputId": "7b632323-aa06-42cf-f830-013a84a0b8af"
      },
      "source": [
        "# Visualize the data\r\n",
        "plt.figure(figsize=(15,10))\r\n",
        "aa.plot(x ='timestamp',y='response_time', color='red', title = 'Anomaly')\r\n",
        "plt.grid()\r\n",
        "plt.legend()"
      ],
      "execution_count": 27,
      "outputs": [
        {
          "output_type": "execute_result",
          "data": {
            "text/plain": [
              "<matplotlib.legend.Legend at 0x7f913bf08a90>"
            ]
          },
          "metadata": {
            "tags": []
          },
          "execution_count": 27
        },
        {
          "output_type": "display_data",
          "data": {
            "text/plain": [
              "<Figure size 1080x720 with 0 Axes>"
            ]
          },
          "metadata": {
            "tags": []
          }
        },
        {
          "output_type": "display_data",
          "data": {
            "image/png": "[encoded data removed]",
            "text/plain": [
              "<Figure size 432x288 with 1 Axes>"
            ]
          },
          "metadata": {
            "tags": [],
            "needs_background": "light"
          }
        }
      ]
    },
    {
      "cell_type": "code",
      "metadata": {
        "id": "VK1k7DKGY_QI"
      },
      "source": [
        ""
      ],
      "execution_count": 27,
      "outputs": []
    }
  ]
}